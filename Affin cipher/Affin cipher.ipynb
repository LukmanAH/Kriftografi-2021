{
 "cells": [
  {
   "cell_type": "code",
   "execution_count": 89,
   "metadata": {},
   "outputs": [
    {
     "name": "stdout",
     "output_type": "stream",
     "text": [
      "\n",
      "pilihan:\n",
      "1. Enkripsi \n",
      "2. Dekripsi \n",
      "Inputkan Pilihan[1 atau 2]: 1\n",
      "Input Key (Berupa Angka): 10\n",
      "3\n",
      "\n",
      "P :test\n",
      "K :10\n",
      "C :nmgn\n"
     ]
    }
   ],
   "source": [
    "#prosedur Mencetak Hasil\n",
    "#-----------------------#\n",
    "def cetak(a,b,c,pilihan):\n",
    "    print('')\n",
    "    if pilihan == '1':\n",
    "        output = open('output_Enkripsi.txt', 'w')\n",
    "        print('P :' + a) \n",
    "        print('K :' + b) \n",
    "        print('C :' + c)\n",
    "        output.write('Hasil Enkripsi: '+c)\n",
    "    else:\n",
    "        output = open('output_Dekripsi.txt', 'w')\n",
    "        print('C :' + a) \n",
    "        print('K :' + b) \n",
    "        print('P :' + c)\n",
    "        output.write('Hasil Dekripsi: '+c)\n",
    "        \n",
    "    \n",
    "#----------------------------------#\n",
    "#Prosedur affine Cipher\n",
    "#----------------------------------#\n",
    "def affine(text, pilihan):\n",
    "    \n",
    "    hasil=''\n",
    "    \n",
    "    key=int(input('Input Key (Berupa Angka): '))\n",
    "    m=cari_m(26)\n",
    "    print(m)\n",
    "    for idk in range(len(text)):\n",
    "        if text[idk]!=' ':\n",
    "            if(pilihan=='1'):  #enkripsi\n",
    "                x=(ord(text[idk])-97)*7+key+97\n",
    "                \n",
    "                while (x > 122):\n",
    "                    x-=26\n",
    "            else:\n",
    "                x=ord(text[idk])-key-97\n",
    "                while (x <0):\n",
    "                    x+=26\n",
    "                x*=15\n",
    "                x+=97\n",
    "                while (x > 122):\n",
    "                    x-=26\n",
    "                \n",
    "            hasil+=chr(x)\n",
    "            \n",
    "        else:\n",
    "            hasil+=' '\n",
    "    \n",
    "    cetak(text,str(key),hasil,pilihan)\n",
    "\n",
    "\n",
    "#--------------#  \n",
    "# main Program #\n",
    "#--------------#\n",
    "print('')\n",
    "print('pilihan:')\n",
    "print('1. Enkripsi ')\n",
    "print('2. Dekripsi ')\n",
    "pilihan=input('Inputkan Pilihan[1 atau 2]: ')\n",
    "    \n",
    "if pilihan != '1' and pilihan !='2':\n",
    "    print(\"Invalid Input ,, Your Choices only  '1' or '2'\")\n",
    "elif pilihan == '1':\n",
    "    inputan = open('input_Enkripsi.txt', 'r')\n",
    "    affine(inputan.read(),pilihan)\n",
    "elif pilihan == '2':\n",
    "    inputan = open('input_Dekripsi.txt', 'r')\n",
    "    affine(inputan.read(),pilihan)\n"
   ]
  },
  {
   "cell_type": "code",
   "execution_count": null,
   "metadata": {},
   "outputs": [],
   "source": []
  },
  {
   "cell_type": "code",
   "execution_count": null,
   "metadata": {},
   "outputs": [],
   "source": []
  },
  {
   "cell_type": "code",
   "execution_count": null,
   "metadata": {},
   "outputs": [],
   "source": []
  }
 ],
 "metadata": {
  "kernelspec": {
   "display_name": "Python 3",
   "language": "python",
   "name": "python3"
  }
 },
 "nbformat": 4,
 "nbformat_minor": 4
}
